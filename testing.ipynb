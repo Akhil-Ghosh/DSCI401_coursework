{
  "nbformat": 4,
  "nbformat_minor": 0,
  "metadata": {
    "colab": {
      "provenance": [],
      "collapsed_sections": [],
      "authorship_tag": "ABX9TyOj0DpRbwqoGJmGhRAmWghU",
      "include_colab_link": true
    },
    "kernelspec": {
      "name": "python3",
      "display_name": "Python 3"
    },
    "language_info": {
      "name": "python"
    }
  },
  "cells": [
    {
      "cell_type": "markdown",
      "metadata": {
        "id": "view-in-github",
        "colab_type": "text"
      },
      "source": [
        "<a href=\"https://colab.research.google.com/github/Akhil-Ghosh/DSCI401_coursework/blob/master/testing.ipynb\" target=\"_parent\"><img src=\"https://colab.research.google.com/assets/colab-badge.svg\" alt=\"Open In Colab\"/></a>"
      ]
    },
    {
      "cell_type": "code",
      "execution_count": null,
      "metadata": {
        "id": "zEcdIan8hF8e",
        "colab": {
          "base_uri": "https://localhost:8080/"
        },
        "outputId": "6f9845e0-6f5c-4fae-a986-d54642458df7"
      },
      "outputs": [
        {
          "output_type": "stream",
          "name": "stdout",
          "text": [
            "<class 'int'>\n"
          ]
        }
      ],
      "source": [
        "import pandas as pd\n",
        "math = 2+2\n",
        "print(math)\n",
        "print(type(math))\n",
        "\n",
        "\n",
        "#Test 2\n"
      ]
    },
    {
      "cell_type": "code",
      "source": [],
      "metadata": {
        "id": "mMUaQEkaliog"
      },
      "execution_count": null,
      "outputs": []
    }
  ]
}